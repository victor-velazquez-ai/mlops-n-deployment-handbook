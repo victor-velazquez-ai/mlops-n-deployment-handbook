{
 "cells": [
  {
   "cell_type": "markdown",
   "id": "49b4c4e5",
   "metadata": {},
   "source": [
    "# 01 — Save & Load Models\n",
    "\n",
    "**Goal:** Persist models so they can be reused in production.\n",
    "\n",
    "**Options**\n",
    "- `joblib`: optimized for numpy arrays (scikit-learn)\n",
    "- `pickle`: general Python object serialization\n",
    "- `ONNX`: portable format for interoperability\n",
    "\n",
    "**Pros/Cons**\n",
    "- joblib: efficient, sklearn-specific\n",
    "- pickle: flexible but insecure\n",
    "- ONNX: cross-platform, limited ops support"
   ]
  },
  {
   "cell_type": "code",
   "execution_count": null,
   "id": "a7c73f27",
   "metadata": {},
   "outputs": [],
   "source": [
    "import numpy as np\n",
    "from sklearn.linear_model import LinearRegression\n",
    "import joblib, pickle, onnx, torch\n",
    "\n",
    "# Train simple model\n",
    "X = np.arange(10).reshape(-1, 1)\n",
    "y = 2*X.ravel() + 1\n",
    "model = LinearRegression().fit(X, y)\n",
    "\n",
    "# joblib save/load\n",
    "joblib.dump(model, \"linear_model.joblib\")\n",
    "model2 = joblib.load(\"linear_model.joblib\")\n",
    "print(\"Joblib prediction:\", model2.predict([[5]]))\n",
    "\n",
    "# pickle save/load\n",
    "with open(\"linear_model.pkl\",\"wb\") as f: pickle.dump(model,f)\n",
    "with open(\"linear_model.pkl\",\"rb\") as f: model3 = pickle.load(f)\n",
    "print(\"Pickle prediction:\", model3.predict([[5]]))\n",
    "\n",
    "# Torch model to ONNX\n",
    "class Tiny(torch.nn.Module):\n",
    "    def forward(self, x): return 2*x + 1\n",
    "\n",
    "tiny = Tiny()\n",
    "dummy = torch.randn(1,1)\n",
    "torch.onnx.export(tiny, dummy, \"tiny.onnx\", input_names=[\"x\"], output_names=[\"y\"])\n",
    "print(\"ONNX file saved: tiny.onnx\")"
   ]
  }
 ],
 "metadata": {},
 "nbformat": 4,
 "nbformat_minor": 5
}
