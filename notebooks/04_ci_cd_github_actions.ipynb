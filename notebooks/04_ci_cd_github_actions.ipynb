{
 "cells": [
  {
   "cell_type": "markdown",
   "id": "d0c60057",
   "metadata": {},
   "source": [
    "# 04 — CI/CD with GitHub Actions\n",
    "\n",
    "**Goal:** Automate testing and deployment.\n",
    "\n",
    "**Workflow**\n",
    "- Trigger on push to `main`\n",
    "- Run linting & tests\n",
    "- Build Docker image\n",
    "\n",
    "**Advantages**\n",
    "- Automated quality checks\n",
    "- Continuous deployment"
   ]
  },
  {
   "cell_type": "code",
   "execution_count": null,
   "id": "3cf6f27d",
   "metadata": {},
   "outputs": [],
   "source": [
    "# Example .github/workflows/ci.yml\n",
    "\n",
    "workflow = '''\n",
    "name: CI\n",
    "\n",
    "on:\n",
    "  push:\n",
    "    branches: [ main ]\n",
    "\n",
    "jobs:\n",
    "  build:\n",
    "    runs-on: ubuntu-latest\n",
    "    steps:\n",
    "    - uses: actions/checkout@v2\n",
    "    - name: Set up Python\n",
    "      uses: actions/setup-python@v2\n",
    "      with:\n",
    "        python-version: '3.10'\n",
    "    - name: Install dependencies\n",
    "      run: |\n",
    "        pip install -r requirements.txt\n",
    "        pip install pytest\n",
    "    - name: Run tests\n",
    "      run: pytest\n",
    "    - name: Build Docker image\n",
    "      run: docker build -t ml-service .\n",
    "'''\n",
    "print(workflow)"
   ]
  }
 ],
 "metadata": {},
 "nbformat": 4,
 "nbformat_minor": 5
}
