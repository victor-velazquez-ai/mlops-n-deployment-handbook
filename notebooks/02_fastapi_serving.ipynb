{
 "cells": [
  {
   "cell_type": "markdown",
   "id": "c3b8a4d9",
   "metadata": {},
   "source": [
    "# 02 — FastAPI Serving\n",
    "\n",
    "**Goal:** Serve model predictions via a REST API.\n",
    "\n",
    "**Endpoints**\n",
    "- `/predict` — returns prediction given input\n",
    "- `/health` — returns service status\n",
    "\n",
    "**Advantages**\n",
    "- Language-agnostic clients\n",
    "- Scales with Uvicorn/Gunicorn"
   ]
  },
  {
   "cell_type": "code",
   "execution_count": null,
   "id": "d54a7b7c",
   "metadata": {},
   "outputs": [],
   "source": [
    "from fastapi import FastAPI\n",
    "from pydantic import BaseModel\n",
    "import joblib\n",
    "\n",
    "# Load model (from Notebook 1)\n",
    "model = joblib.load(\"linear_model.joblib\")\n",
    "\n",
    "app = FastAPI()\n",
    "\n",
    "class Input(BaseModel):\n",
    "    x: float\n",
    "\n",
    "@app.get(\"/health\")\n",
    "def health():\n",
    "    return {\"status\": \"ok\"}\n",
    "\n",
    "@app.post(\"/predict\")\n",
    "def predict(inp: Input):\n",
    "    yhat = model.predict([[inp.x]])[0]\n",
    "    return {\"prediction\": yhat}\n",
    "\n",
    "# Run: uvicorn filename:app --reload --port 8000"
   ]
  }
 ],
 "metadata": {},
 "nbformat": 4,
 "nbformat_minor": 5
}
