{
 "cells": [
  {
   "cell_type": "markdown",
   "id": "d648f94f",
   "metadata": {},
   "source": [
    "# 05 — Experiment Tracking with MLflow\n",
    "\n",
    "**Goal:** Track parameters, metrics, and artifacts.\n",
    "\n",
    "**Steps**\n",
    "1. `mlflow.start_run()`\n",
    "2. Log metrics, params, artifacts\n",
    "3. Compare experiments in `mlflow ui`"
   ]
  },
  {
   "cell_type": "code",
   "execution_count": null,
   "id": "195c67b0",
   "metadata": {},
   "outputs": [],
   "source": [
    "import mlflow\n",
    "import mlflow.sklearn\n",
    "from sklearn.ensemble import RandomForestRegressor\n",
    "from sklearn.datasets import make_regression\n",
    "\n",
    "X, y = make_regression(n_samples=100, n_features=5, noise=0.1, random_state=42)\n",
    "model = RandomForestRegressor(n_estimators=50, random_state=42)\n",
    "model.fit(X, y)\n",
    "\n",
    "with mlflow.start_run():\n",
    "    mlflow.log_param(\"n_estimators\", 50)\n",
    "    mlflow.log_metric(\"train_score\", model.score(X, y))\n",
    "    mlflow.sklearn.log_model(model, \"model\")\n",
    "\n",
    "print(\"Run `mlflow ui` to inspect results.\")"
   ]
  }
 ],
 "metadata": {},
 "nbformat": 4,
 "nbformat_minor": 5
}
