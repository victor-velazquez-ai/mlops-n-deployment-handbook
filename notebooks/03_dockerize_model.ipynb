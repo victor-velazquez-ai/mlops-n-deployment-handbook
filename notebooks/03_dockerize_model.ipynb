{
 "cells": [
  {
   "cell_type": "markdown",
   "id": "f0a57f62",
   "metadata": {},
   "source": [
    "# 03 — Dockerize a Model\n",
    "\n",
    "**Goal:** Containerize the FastAPI service.\n",
    "\n",
    "**Steps**\n",
    "1. Write `Dockerfile`\n",
    "2. Build: `docker build -t ml-service .`\n",
    "3. Run: `docker run -p 8000:8000 ml-service`\n",
    "\n",
    "**Advantages**\n",
    "- Reproducibility\n",
    "- Easy deployment anywhere"
   ]
  },
  {
   "cell_type": "code",
   "execution_count": null,
   "id": "f292b9d4",
   "metadata": {},
   "outputs": [],
   "source": [
    "# Example Dockerfile content\n",
    "\n",
    "dockerfile = '''\n",
    "FROM python:3.10-slim\n",
    "\n",
    "WORKDIR /app\n",
    "\n",
    "COPY requirements.txt ./\n",
    "RUN pip install --no-cache-dir -r requirements.txt\n",
    "\n",
    "COPY . .\n",
    "\n",
    "CMD [\"uvicorn\", \"02_fastapi_serving:app\", \"--host\", \"0.0.0.0\", \"--port\", \"8000\"]\n",
    "'''\n",
    "\n",
    "print(dockerfile)"
   ]
  }
 ],
 "metadata": {},
 "nbformat": 4,
 "nbformat_minor": 5
}
